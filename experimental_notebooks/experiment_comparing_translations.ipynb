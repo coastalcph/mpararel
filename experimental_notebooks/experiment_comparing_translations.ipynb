{
 "cells": [
  {
   "cell_type": "code",
   "execution_count": 1,
   "source": [
    "import os\n",
    "import json\n",
    "from tqdm import tqdm\n",
    "import re\n",
    "from glob import glob"
   ],
   "outputs": [],
   "metadata": {}
  },
  {
   "cell_type": "code",
   "execution_count": 2,
   "source": [
    "def is_template_valid(template):\n",
    "    \"\"\"Checks that the template has one [X], one [Y], and extra text.\"\"\"\n",
    "    return (template.count(\"[X]\") == 1 and\n",
    "            template.count(\"[Y]\") == 1 and\n",
    "            not re.match(r'^[\\b\\[X\\]\\b\\b\\[Y\\]\\b., ]+$', template))"
   ],
   "outputs": [],
   "metadata": {}
  },
  {
   "cell_type": "code",
   "execution_count": 3,
   "source": [
    "import re\n",
    "\n",
    "def clean_template(template):\n",
    "    template = re.sub(r'[.!,:]', '', template)\n",
    "    template = re.sub(r' +', ' ', template)\n",
    "    template = re.sub(r' $', '', template)\n",
    "    return template"
   ],
   "outputs": [],
   "metadata": {}
  },
  {
   "cell_type": "code",
   "execution_count": 4,
   "source": [
    "mpararel_folders = glob(\"../generated_datasets/mpararel_*/\")\n",
    "mpararel_folders"
   ],
   "outputs": [
    {
     "output_type": "execute_result",
     "data": {
      "text/plain": [
       "['../generated_datasets/mpararel_google/',\n",
       " '../generated_datasets/mpararel_mbart50_en2m/',\n",
       " '../generated_datasets/mpararel_m2m100_big/',\n",
       " '../generated_datasets/mpararel_opus_mt/',\n",
       " '../generated_datasets/mpararel_bing/']"
      ]
     },
     "metadata": {},
     "execution_count": 4
    }
   ],
   "metadata": {}
  },
  {
   "cell_type": "code",
   "execution_count": 6,
   "source": [
    "language = \"es\"\n",
    "relations = [x.replace(\".jsonl\", \"\") for x in\n",
    "             os.listdir(os.path.join(mpararel_folders[0], \"en/triples\"))]\n",
    "\n",
    "translator_to_relation_to_phrases = {}\n",
    "for mpararel_folder in mpararel_folders:\n",
    "    translator_to_relation_to_phrases[mpararel_folder] = {}\n",
    "    for relation in relations:\n",
    "        praphrases = set()\n",
    "        with open(os.path.join(mpararel_folder, language, \"patterns\", relation + '.jsonl')) as f_praphrases:\n",
    "            for line in f_praphrases:\n",
    "                data = json.loads(line)\n",
    "                if is_template_valid(data[\"pattern\"]):\n",
    "                    praphrases.add(clean_template(data[\"pattern\"]))\n",
    "        translator_to_relation_to_phrases[mpararel_folder][relation] = praphrases"
   ],
   "outputs": [],
   "metadata": {}
  },
  {
   "cell_type": "markdown",
   "source": [
    "TODO:\n",
    "- convert text to lowercase\n",
    "- ignore? puntutaction, or format spaces around puntuaction."
   ],
   "metadata": {}
  },
  {
   "cell_type": "code",
   "execution_count": 7,
   "source": [
    "es_paraphrases = {}\n",
    "with open(\"/home/wsr217/ppdb/ppdb-1.0-s-phrasal\") as f_ppdb:\n",
    "    for i, line in enumerate(f_ppdb):\n",
    "        info = line.split(' ||| ')\n",
    "        es_paraphrases[info[1]] = info[2]\n",
    "        es_paraphrases[info[2]] = info[1]"
   ],
   "outputs": [],
   "metadata": {}
  },
  {
   "cell_type": "code",
   "execution_count": 8,
   "source": [
    "def get_longest_text(template):\n",
    "    text_groups = re.match(r'(.*)(\\[[XY]\\])(.*)(\\[[XY]\\])(.*)', template)\n",
    "    text_to_length = {text_groups.group(i): len(text_groups.group(i)) for i in range(1,6,2)}\n",
    "    longest_text = sorted(text_to_length.items(), key=lambda item: item[1], reverse=True)[0][0]\n",
    "    longest_text = re.sub(r'^ ', '',longest_text)\n",
    "    longest_text = re.sub(r' $', '',longest_text)\n",
    "    return longest_text"
   ],
   "outputs": [],
   "metadata": {}
  },
  {
   "cell_type": "code",
   "execution_count": 9,
   "source": [
    "def get_middle_text(template):\n",
    "    matches = re.match(r'^\\[[XY]\\] (.*) \\[[XY]\\]$', template)\n",
    "    if not matches:\n",
    "        return None\n",
    "    return matches.group(1)"
   ],
   "outputs": [],
   "metadata": {}
  },
  {
   "cell_type": "code",
   "execution_count": 11,
   "source": [
    "translator_to_relation_to_phrases.keys()"
   ],
   "outputs": [
    {
     "output_type": "execute_result",
     "data": {
      "text/plain": [
       "dict_keys(['../generated_datasets/mpararel_google/', '../generated_datasets/mpararel_mbart50_en2m/', '../generated_datasets/mpararel_m2m100_big/', '../generated_datasets/mpararel_opus_mt/', '../generated_datasets/mpararel_bing/'])"
      ]
     },
     "metadata": {},
     "execution_count": 11
    }
   ],
   "metadata": {}
  },
  {
   "cell_type": "code",
   "execution_count": 12,
   "source": [
    "import collections"
   ],
   "outputs": [],
   "metadata": {}
  },
  {
   "cell_type": "code",
   "execution_count": 13,
   "source": [
    "for relation in relations:\n",
    "    translations_to_votes = collections.defaultdict(int)\n",
    "    for translator, relation_to_phrases in translator_to_relation_to_phrases.items():\n",
    "        for translated_phrase in relation_to_phrases[relation]:\n",
    "            translations_to_votes[translated_phrase] += 1\n",
    "    agreed = set()\n",
    "    not_agreed = set()\n",
    "    for translated_phrase, votes in translations_to_votes.items():\n",
    "        if votes > 1:\n",
    "            agreed.add(translated_phrase)\n",
    "        else:\n",
    "            not_agreed.add(translated_phrase)\n",
    "    ppdb_paraphrases = {}\n",
    "    for phrase in translations_to_votes.keys():\n",
    "        #template_longest_text = get_longest_text(phrase)\n",
    "        #if len(template_longest_text.split(' ')) == 1:\n",
    "        #    continue\n",
    "        middle_text = get_middle_text(phrase)\n",
    "        if middle_text and middle_text in es_paraphrases:\n",
    "            ppdb_paraphrases[middle_text] = es_paraphrases[middle_text]\n",
    "    if not_agreed:\n",
    "        print(\"In relation {} there were {} agreed and {} not agreed translations.\".format(\n",
    "            relation, len(agreed), len(not_agreed)))\n",
    "        print(\"Agreed:\", agreed)\n",
    "        print(\"Not agreed:\", not_agreed)\n",
    "        if ppdb_paraphrases:\n",
    "            print(\"From ppdb:\", ppdb_paraphrases)\n",
    "        print()"
   ],
   "outputs": [
    {
     "output_type": "stream",
     "name": "stdout",
     "text": [
      "In relation P30 there were 4 agreed and 3 not agreed translations.\n",
      "Agreed: {'[X] se encuentra en el continente [Y]', '[X] pertenece al continente de [Y]', '[X] es una parte del continente de [Y]', '[X] se encuentra en [Y]'}\n",
      "Not agreed: {'[X] está ubicado en [Y]', '[X] está ubicado en el continente [Y]', '[X] es parte del continente de [Y]'}\n",
      "From ppdb: {'se encuentra en': 'se encuentra situado en'}\n",
      "\n",
      "In relation P279 there were 4 agreed and 3 not agreed translations.\n",
      "Agreed: {'[X] un tipo de [Y]', '[X] es una subclase de [Y]', '[X] una subclase de [Y]', '[X] que es una subclase de [Y]'}\n",
      "Not agreed: {'[X] una subcategoría de [Y]', '[X] que es una subcategoría de [Y]', '[X] es una subcategoría de [Y]'}\n",
      "From ppdb: {'un tipo de': 'una especie de'}\n",
      "\n",
      "In relation P39 there were 6 agreed and 6 not agreed translations.\n",
      "Agreed: {'[X] tiene la posición de [Y]', '[X] que ocupa la posición de [Y]', 'La posición de [X] es [Y]', '[X] cuya posición es la de [Y]', '[X] que tiene la posición de [Y]', '[X] mantiene la posición de [Y]'}\n",
      "Not agreed: {'[X] quien tiene la posición de [Y]', 'la posición [X] es [Y]', '[X] que sostiene la posición de [Y]', '[X] Sostiene la posición de [Y]', '[X] quien mantiene la posición de [Y]', '[X] quien ocupa la posición de [Y]'}\n",
      "\n",
      "In relation P1303 there were 4 agreed and 4 not agreed translations.\n",
      "Agreed: {'[X] juega [Y]', '[Y] jugador [X]', '[X] es un jugador [Y]', '[X] juega el [Y]'}\n",
      "Not agreed: {'[X] se juega con [Y]', '[X] toca la [Y]', '[X] juega la [Y]', '[X] reproduce el [Y]'}\n",
      "From ppdb: {'jugador': 'reproductor de', 'reproduce el': 'se reproduce el'}\n",
      "\n",
      "In relation P19 there were 11 agreed and 23 not agreed translations.\n",
      "Agreed: {'[X] era nativo de [Y]', '[X] fue originalmente de [Y]', '[X] es originario de [Y]', '[X] una persona [Y] nacida', '[X] es una persona nacida en [Y]', '[X] una persona nacida en [Y]', '[X] nació en [Y]', '[X] es nativo de [Y]', '[X] se originó de [Y]', '[X] se origina en [Y]', '[X] es originalmente de [Y]'}\n",
      "Not agreed: {'[X] es una persona [Y] de nacimiento', '[X] es una persona [Y] nacida', '[X] era originaria de [Y]', '[X] era originario de [Y]', '[X] originado de [Y]', '[X] fue nativo de [Y]', '[X] era una persona [Y] nacida', '[X] proviene de [Y]', '[X] una persona que nació [Y]', '[X] originalmente fue de [Y]', '[X] una persona [Y]-nacida', '[X] es originaria de [Y]', '[X] se originó a partir de [Y]', '[X] era una persona [Y]-nacida', '[X] era una persona nacida en [Y]', '[X] es el origen de [Y]', '[X] una persona nacida [Y]', '[X] es una persona nacida [Y]', '[X] fue una persona [Y] nacida', '[X] procede de [Y]', '[X] fue una persona nacida en [Y]', '[X] es una persona [Y]-nacida', '[X] fue una persona [Y]-nacida'}\n",
      "From ppdb: {'se origina en': 'tiene su origen en', 'proviene de': 'provienen de', 'procede de': 'provienen de'}\n",
      "\n",
      "In relation P101 there were 11 agreed and 16 not agreed translations.\n",
      "Agreed: {'El dominio de actividad de [X] es [Y]', '[Y] es la especialización de [X]', '[Y] es la experiencia de [X]', 'El dominio de trabajo de [X] es [Y]', '[Y] es el dominio de la actividad de [X]', 'El área de trabajo de [X] es [Y]', 'El dominio de la actividad de [X] es [Y]', '[X] trabaja en el campo de [Y]', '[X] trabaja en el área de [Y]', '[X] se especializa en [Y]', 'La experiencia de [X] es [Y]'}\n",
      "Not agreed: {'el dominio del trabajo de [X] es [Y]', '[X] funciona en el área de [Y]', 'el dominio del trabajo [X] es [Y]', '[X] trabaja en la zona de [Y]', '[Y] es el dominio de actividad de [X]', 'el dominio de actividad [X] es [Y]', 'La zona de trabajo de [X] es [Y]', 'El dominio del trabajo de [X] es [Y]', '[X] el área de trabajo es [Y]', 'la experiencia de [X] es [Y]', 'el conocimiento de [X] es [Y]', '[X] funciona en el campo de [Y]', 'el dominio de la actividad de [X] es [Y]', '[X] trabajan en el campo de [Y]', 'El dominio de la obra de [X] es [Y]', 'el área de trabajo [X] es [Y]'}\n",
      "From ppdb: {'se especializa en': 'especializada en', 'trabajan en el campo de': 'que trabajan en el campo de'}\n",
      "\n",
      "In relation P1412 there were 6 agreed and 21 not agreed translations.\n",
      "Agreed: {'[X] utilizado [Y] para comunicarse', '[X] utilizado para comunicarse en [Y]', '[X] utiliza el lenguaje [Y]', '[Y] es el lenguaje utilizado por [X]', '[Y] es el lenguaje típicamente utilizado por [X]', '[X] comunicado en [Y]'}\n",
      "Not agreed: {'[Y] fue una lengua usada por [X]', '[Y] es la lengua típicamente utilizada por [X]', '[X] se utiliza para comunicarse en [Y]', '[Y] fue un lenguaje utilizado por [X]', '[Y] es el lenguaje utilizado típicamente por [X]', '[Y] es el idioma utilizado por [X]', '[X] usó [Y] para comunicarse', '[X] utilizó el lenguaje [Y]', '[X] se comunicó en [Y]', '[Y] era un lenguaje utilizado por [X]', '[X] típicamente se utiliza [Y] para comunicar', '[X] se utilizó para comunicar en [Y]', '[X] utilizó el idioma [Y]', '[Y] fue un lenguaje usado por [X]', '[X] usado para comunicarse en [Y]', '[X] típicamente utilizado [Y] para comunicarse', '[X] normalmente usa [Y] para comunicarse', '[X] utilizó [Y] para comunicarse', '[Y] es la lengua utilizada por [X]', '[X] Normalmente se usa [Y] para comunicarse', '[X] normalmente se usa [Y] para comunicarse'}\n",
      "\n",
      "In relation P449 there were 13 agreed and 14 not agreed translations.\n",
      "Agreed: {'la liberación [Y] de [X]', 'el debut [Y] de [X]', '[Y] liberado [X]', '[X] es debutar en [Y]', '[Y] es debutar [X]', '[X] fue lanzado en [Y]', '[X] debutó en [Y]', '[X] se estrenó en [Y]', '[X] fue originalmente emitido en [Y]', '[X] fue liberado en [Y]', '[X] se estrena en [Y]', '[Y] va a debutar [X]', '[Y] debutó [X]'}\n",
      "Not agreed: {'el debut de [Y] de [X]', 'la liberación de [Y] de [X]', '[X] estrenado en [Y]', '[X] originalmente se emitió en [Y]', 'la versión [Y] de [X]', '[X] debutará en [Y]', '[X] fue emitido originalmente en [Y]', '[X] es el debut en [Y]', '[X] estrenos en [Y]', '[X] Premieres en [Y]', '[Y] dejó [X]', '[X] debutado en [Y]', '[X] se emitió originalmente en [Y]', '[X] debe debutar en [Y]'}\n",
      "From ppdb: {'liberado': 'puestos en libertad', 'fue lanzado en': 'se lanzÃ³ en'}\n",
      "\n",
      "In relation P140 there were 4 agreed and 6 not agreed translations.\n",
      "Agreed: {'[X] es seguidor de [Y]', '[Y] es la religión oficial de [X]', '[X] está afiliado a la religión [Y]', '[X] sigue la religión [Y]'}\n",
      "Not agreed: {'[X] es el seguidor de [Y]', '[X] es el sucesor de [Y]', '[X] está afiliado a la [Y] religión', '[X] sigue la [Y] religión', '[X] es asociado con la [Y] religión', '[X] Sigue la religión [Y]'}\n",
      "\n",
      "In relation P103 there were 4 agreed and 3 not agreed translations.\n",
      "Agreed: {'La lengua materna de [X] es [Y]', 'El idioma nativo de [X] es [Y]', '[Y] es la lengua materna de [X]', '[Y] es el idioma nativo de [X]'}\n",
      "Not agreed: {'el idioma nativo de [X] es [Y]', '[Y] es la lengua materna [X]', 'la lengua materna de [X] es [Y]'}\n",
      "\n",
      "In relation P178 there were 18 agreed and 4 not agreed translations.\n",
      "Agreed: {'[X] desarrollado por [Y]', '[Y] que desarrolló [X]', '[Y] y su producto [X]', '[X] un producto de [Y]', '[X] fue creado por [Y]', '[X] un producto fabricado por [Y]', '[Y] que creó [X]', '[X] un producto desarrollado por [Y]', '[Y] el creador de la [X]', '[X] un producto creado por [Y]', '[X] fue un producto de [Y]', '[X] producto de [Y]', '[Y] que ha desarrollado [X]', '[X] creado por [Y]', '[X] es desarrollado por [Y]', '[X] fue desarrollado por [Y]', '[X] es un producto de [Y]', '[X] es creado por [Y]'}\n",
      "Not agreed: {'[X] era un producto de [Y]', '[Y] que se desarrolló [X]', '[X] se ha desarrollado por [Y]', '[Y] el creador del [X]'}\n",
      "From ppdb: {'desarrollado por': 'desarrolladas por', 'fue creado por': 'se creÃ³ por', 'el creador de la': 'el creador del', 'creado por': 'establecido por', 'fue desarrollado por': 'fue desarrollada por', 'es un producto de': 'es producto de', 'producto de': 'producto en', 'el creador del': 'el creador de la'}\n",
      "\n",
      "In relation P20 there were 7 agreed and 11 not agreed translations.\n",
      "Agreed: {'[X] perdieron la vida en [Y]', '[X] expiró en [Y]', '[X] falleció en [Y]', '[X] murió en [Y]', '[X] sucumbió en [Y]', 'La vida de [X] terminó en [Y]', '[X] perdió su vida en [Y]'}\n",
      "Not agreed: {'la vida [X] terminó en [Y]', '[X] pasó en [Y]', '[X] CADURADO EN [Y]', '[X] la vida terminó en [Y]', '[X] expira en [Y]', '[X] se ha extinguido en [Y]', '[X] sucumbe a [Y]', '[X] ha pasado en [Y]', '[X] se subió a [Y]', '[X] perdieron su vida en [Y]', '[X] Murió en [Y]'}\n",
      "From ppdb: {'ha pasado en': 'ha sucedido en', 'perdieron la vida en': 'resultaron muertos en'}\n",
      "\n",
      "In relation P463 there were 6 agreed and 4 not agreed translations.\n",
      "Agreed: {'[X] pertenece a la organización de [Y]', '[X] es miembro de [Y]', '[X] es un miembro de [Y]', '[X] es parte de la organización [Y]', '[X] está afiliado a [Y]', '[X] está afiliado a la organización [Y]'}\n",
      "Not agreed: {'[X] es una parte de la [Y] organización', '[X] está asociado con [Y]', '[X] está afiliado con la [Y] organización', '[X] es una parte de la organización [Y]'}\n",
      "From ppdb: {'es un miembro de': 'sea miembro de', 'es miembro de': 'era miembro de'}\n",
      "\n",
      "In relation P138 there were 18 agreed and 33 not agreed translations.\n",
      "Agreed: {'[X] nombrado en honor de [Y]', '[X] se llama después de [Y]', '[X] que se llama en honor de [Y]', '[X] se llama en honor de [Y]', '[X] fue nombrado en honor de [Y]', '[X] que fue nombrado por [Y]', '[X] que se llama después de [Y]', '[X] que fue nombrado después de [Y]', '[X] llamado después de [Y]', '[X] fue llamado después de [Y]', '[X] que se llamaba después de [Y]', '[X] llamado así por [Y]', '[X] que fue nombrado en honor de [Y]', '[X] que lleva el nombre de [Y]', '[X] lleva el nombre de [Y]', '[X] que fue llamado después de [Y]', '[X] fue nombrado por [Y]', '[X] fue nombrado después de [Y]'}\n",
      "Not agreed: {'[X] que lleva el nombre en honor a [Y]', '[X] que fue nacido después de [Y]', '[X] fue nombrado en honor [Y]', '[X] que es el nombre de [Y]', '[X] nombrado después de [Y]', '[X] nombrado en honor [Y]', '[X] se llama por [Y]', '[X] nombrado por [Y]', '[X] se nombra después de [Y]', '[X] se nombra por [Y]', '[X] llamado por [Y]', '[X] que se nombra por [Y]', '[X] fue llamado por [Y]', '[X] lleva el nombre en honor de [Y]', '[X] es el nombre después de [Y]', '[X] llamada después de [Y]', '[X] que fue llamado por [Y]', '[X] nacido después de [Y]', '[X] fue nacido después de [Y]', '[X] es nombrado en honor de [Y]', '[X] que fue nombrado en honor a [Y]', '[X] que fue designado en honor de [Y]', '[X] que se nombra en honor [Y]', '[X] nacido en honor de [Y]', '[X] que es llamado después de [Y]', '[X] que fue nombrado en honor [Y]', '[X] que se nombra después de [Y]', 'El nombre de [X] es el de [Y]', '[X] tiene el nombre de [Y]', '[X] fue designado en honor de [Y]', '[X] que tiene el nombre de [Y]', '[X] que se denomina por [Y]', '[X] se nombra en honor [Y]'}\n",
      "From ppdb: {'nombrado por': 'nombradas por', 'fue nombrado por': 'es nombrado por'}\n",
      "\n",
      "In relation P364 there were 6 agreed and 16 not agreed translations.\n",
      "Agreed: {'El idioma original de [X] era [Y]', 'El lenguaje de [X] era [Y]', 'el lenguaje de [X] es [Y]', 'El idioma original de [X] es [Y]', '[Y] es el lenguaje de [X]', 'El lenguaje de [X] es [Y]'}\n",
      "Not agreed: {'El lenguaje original de [X] fue [Y]', 'el lenguaje de [X] fue [Y]', 'el idioma de [X] fue [Y]', 'La lengua original de [X] era [Y]', '[Y] fue el lenguaje de [X]', 'La lengua de [X] es [Y]', 'el idioma original de [X] es [Y]', '[Y] es la lengua de [X]', 'el idioma original de [X] fue [Y]', '[Y] era el idioma de [X]', '[Y] es el idioma de [X]', '[Y] fue la lengua de [X]', '[Y] era el lenguaje de [X]', 'La lengua de [X] era [Y]', 'La lengua original de [X] es [Y]', 'El lenguaje original de [X] es [Y]'}\n",
      "\n",
      "In relation P47 there were 9 agreed and 5 not agreed translations.\n",
      "Agreed: {'[Y] comparte la frontera con [X]', '[X] bordes con [Y]', '[X] comparte frontera con [Y]', '[X] comparte una frontera común con [Y]', '[Y] comparte su frontera con [X]', '[X] comparte su frontera con [Y]', '[Y] comparte una frontera común con [X]', '[Y] bordes con [X]', '[X] comparte la frontera con [Y]'}\n",
      "Not agreed: {'[X] se enmarca con [Y]', '[Y] limita con [X]', '[X] fronteras con [Y]', '[Y] se borde con [X]', '[X] limita con [Y]'}\n",
      "From ppdb: {'fronteras con': 'las fronteras con'}\n",
      "\n",
      "In relation P1376 there were 9 agreed and 20 not agreed translations.\n",
      "Agreed: {'La capital de [Y] es [X]', 'La ciudad capital de [Y] es [X]', '[Y] que tiene la capital [X]', 'El capital de [Y] es [X]', 'La capital de [Y] [X]', '[X] la capital de [Y]', '[Y] que tiene la ciudad capital [X]', '[X] que es la capital de [Y]', '[X] es la capital de [Y]'}\n",
      "Not agreed: {'[Y] que tiene la mayúscula [X]', '[X] esta es la capital de [Y]', '[Y] es la capital [X]', '[Y] es el capital [X]', '[X] la ciudad capital de [Y]', '[X] es el capital de [Y]', '[Y] capital [X]', '[X] ese es el capital de [Y]', '[X] es la ciudad capital de [Y]', 'Capital de [Y] [X]', 'la capital de [Y] es [X]', '[X] esa es la capital de [Y]', '[X] Esta es la capital de [Y]', '[Y] la ciudad capital es [X]', '[X] el capital de [Y]', '[Y] que tiene el capital [X]', 'la capital [Y] es [X]', \"[Y] 's Capital [X]\", 'la ciudad capital de [Y] es [X]', '[X] esa es la ciudad capital de [Y]'}\n",
      "From ppdb: {'la capital de': 'capital de', 'capital': 'los capitales', 'el capital de': 'la capital de'}\n",
      "\n",
      "In relation P106 there were 8 agreed and 12 not agreed translations.\n",
      "Agreed: {'La profesión de [X] es una [Y]', 'la profesión de [X] es [Y]', '[X] es un [Y] por profesión', '[X] funciona como [Y]', '[X] que trabaja como [Y]', 'La ocupación de [X] es [Y]', 'la ocupación de [X] es [Y]', '[X] es un [Y] por entrenamiento'}\n",
      "Not agreed: {'[X] es una [Y] por profesión', 'La profesión de [X] es un [Y]', '[X] es un [Y] por formación', 'la profesión [X] es un [Y]', \"[X]'s ocupación es [Y]\", 'La profesión de [X] es [Y]', '[X] es una [Y] de profesión', '[X] La ocupación es [Y]', '[X] que funciona como [Y]', '[X] quien actúa como [Y]', '[X] es una [Y] por entrenamiento', 'la ocupación [X] es [Y]'}\n",
      "From ppdb: {'funciona como': 'opera como un', 'que funciona como': 'que actÃºa como'}\n",
      "\n",
      "In relation P37 there were 9 agreed and 17 not agreed translations.\n",
      "Agreed: {'Oficialmente [Y] es el idioma de [X]', 'La ley en [X] define [Y] como el idioma oficial', 'El idioma [Y] es el idioma oficial de [X]', 'En [X] [Y] es el idioma oficial', 'El idioma oficial de [X] es [Y]', 'La ley en [X] define el idioma [Y] como el idioma oficial', 'El idioma oficial de [X] es el idioma [Y]', '[Y] es el idioma oficial de [X]', 'La ley en [X] declara [Y] el idioma oficial'}\n",
      "Not agreed: {'La lengua oficial de [X] es la lengua [Y]', 'En [X] [Y] es la lengua oficial', 'La lengua [Y] es la lengua oficial de [X]', 'La ley en [X] declara [Y] la lengua oficial', 'la ley en [X] declara [Y] el idioma oficial', 'La lengua oficial de [X] es [Y]', 'El idioma oficial de [X] es el [Y]', 'la ley en [X] define [Y] como el idioma oficial', 'en [X] [Y] es el idioma oficial', 'la ley en [X] define el idioma [Y] como el idioma oficial', 'La ley en [X] define [Y] como la lengua oficial', '[Y] es la lengua oficial de [X]', 'La ley en [X] define el [Y] como el idioma oficial', 'La ley en [X] define la lengua [Y] como la lengua oficial', 'el idioma oficial de [X] es [Y]', 'oficialmente [Y] es el lenguaje de [X]', 'Oficialmente [Y] es la lengua de [X]'}\n",
      "\n",
      "In relation P413 there were 6 agreed and 8 not agreed translations.\n",
      "Agreed: {'jugando como [Y] [X]', '[X] juega en la posición [Y]', '[X] juega como [Y]', '[X] que juega en la posición [Y]', '[X] juega en la posición de [Y]', 'jugando como un [Y] [X]'}\n",
      "Not agreed: {'Jugar como a [Y] [X]', '[X] quien juega en la posición [Y]', '[X] juega en posición [Y]', 'jugando como una [Y] [X]', '[X] quien juega en [Y] posición', '[X] que juega en [Y] posición', '[X] se reproduce como [Y]', 'Jugar como un [Y] [X]'}\n",
      "\n",
      "In relation P17 there were 4 agreed and 1 not agreed translations.\n",
      "Agreed: {'[X] ubicado en [Y]', '[X] que se encuentra en [Y]', '[X] situado en [Y]', '[X] se encuentra en [Y]'}\n",
      "Not agreed: {'[X] está ubicado en [Y]'}\n",
      "From ppdb: {'ubicado en': 'que se encuentra en', 'que se encuentra en': 'ubicado en', 'se encuentra en': 'se encuentra situado en', 'situado en': 'ubicadas en'}\n",
      "\n",
      "In relation P190 there were 4 agreed and 6 not agreed translations.\n",
      "Agreed: {'[Y] es una ciudad gemela de [X]', '[X] es una ciudad gemela de [Y]', '[Y] y [X] son ciudades gemelas', '[X] y [Y] son ciudades gemelas'}\n",
      "Not agreed: {'[X] es una ciudad gemelas de [Y]', '[Y] y [X] son dos ciudades', '[X] e [Y] son ciudades gemelas', '[Y] es una ciudad gemelas de [X]', '[X] es una ciudad doble de [Y]', '[X] y [Y] son dos ciudades'}\n",
      "\n",
      "In relation P136 there were 6 agreed and 9 not agreed translations.\n",
      "Agreed: {'[X] quien juega [Y]', '[X] toca música [Y]', '[Y] músicos [X]', '[X] quien toca [Y] música', '[Y] músicos como [X]', '[X] juega [Y]'}\n",
      "Not agreed: {'[X] que toca música [Y]', '[X] quien juega [Y] música', '[X] que interpreta [Y]', '[X] Es la música de [Y]', '[X] que juega [Y]', '[X] juega la música [Y]', '[X] reproduce música [Y]', '[X] quien juega la música [Y]', '[X] se juega [Y]'}\n",
      "From ppdb: {'se juega': 'se reproduce'}\n",
      "\n",
      "In relation P407 there were 11 agreed and 43 not agreed translations.\n",
      "Agreed: {'[X] es una obra en el lenguaje [Y]', '[X] está escrito en el idioma [Y]', '[X] fue escrito en [Y]', '[X] está escrito en [Y]', 'El lenguaje de [X] era [Y]', '[X] fue escrito en el idioma [Y]', 'el lenguaje de [X] es [Y]', '[Y] es el lenguaje de [X]', 'El lenguaje de [X] es [Y]', '[X] escrito en el idioma [Y]', '[X] fue un trabajo en el idioma [Y]'}\n",
      "Not agreed: {'el lenguaje de [X] fue [Y]', '[X] fue un trabajo en lengua [Y]', '[X] fue un trabajo [Y] -language', 'el idioma de [X] fue [Y]', 'La creación de la lengua [Y] [X]', '[X] fue escrito en la lengua [Y]', '[Y] es el idioma de [X]', '[Y] es la lengua de [X]', 'La creación del lenguaje [Y][X]', 'la creación [Y] -language [X]', '[X] un trabajo [Y]-idioma', '[X] es un trabajo en lengua [Y]', '[X] es una obra en el idioma [Y]', '[X] un trabajo en lengua [Y]', '[X] fue un trabajo [Y]-idioma', '[X] escrito en la lengua [Y]', '[X] era un trabajo en la lengua [Y]', '[X] es un trabajo de [Y] lenguaje', '[X] fue un trabajo de [Y] lenguaje', 'La lengua de [X] es [Y]', '[Y] fue el lenguaje de [X]', '[X] fue un trabajo [Y] -Language', '[X] está escrito en la lengua [Y]', '[X] es un trabajo [Y] -language', 'La creación [Y]-idioma [X]', '[X] un trabajo [Y] -Language', 'La lengua de [X] era [Y]', '[Y] era el lenguaje de [X]', '[X] es un trabajo en la lengua [Y]', '[X] es un trabajo [Y]-idioma', '[X] era una obra de lenguaje [Y]', '[X] una obra de lenguaje [Y]', '[X] fue un trabajo de lenguaje [Y]', '[X] fue escrito en el lenguaje [Y]', '[X] se escribe en el idioma [Y]', '[X] fue una obra en el idioma [Y]', '[X] es una obra de lenguaje [Y]', '[X] estaba escrito en [Y]', '[X] fue un trabajo en el lenguaje [Y]', '[Y] era el idioma de [X]', '[Y] fue la lengua de [X]', '[X] es un trabajo en el idioma [Y]', '[X] un trabajo [Y] -language'}\n",
      "\n",
      "In relation P159 there were 8 agreed and 10 not agreed translations.\n",
      "Agreed: {'[X] tiene su sede en [Y]', '[X] cuya sede está en [Y]', 'La sede de [X] se encuentra en [Y]', 'La sede de [X] está en [Y]', '[Y] es el hogar de [X]', '[Y] tiene la sede de [X]', '[Y] contiene la sede de [X]', '[X] se basa en [Y]'}\n",
      "Not agreed: {'la sede de [X] está en [Y]', '[X] cuyo cuartel general está en [Y]', 'la sede de [X] se encuentra en [Y]', '[X] se encuentra en la sede de [Y]', '[X] cuyas sedes están en [Y]', '[X] se encuentran en la sede de [Y]', '[X] está basado en [Y]', '[Y] es la casa de [X]', '[Y] contiene las cabezas de [X]', 'El cuartel general de [X] está en [Y]'}\n",
      "From ppdb: {'tiene su sede en': 'se basa , en', 'se basa en': 'se basan en'}\n",
      "\n",
      "In relation P937 there were 4 agreed and 12 not agreed translations.\n",
      "Agreed: {'[X] trabajó en [Y]', '[X] encontró empleo en [Y]', '[X] comenzó a trabajar en [Y]', '[X] fue empleado en [Y]'}\n",
      "Not agreed: {'[X] se utilizó para trabajar en [Y]', '[X] tomó trabajo en [Y]', '[X] trabajaba en [Y]', '[X] asumió el trabajo en [Y]', '[X] ha trabajado en [Y]', '[X] tomó el trabajo en [Y]', '[X] estaba empleado en [Y]', '[X] solía trabajar en [Y]', '[X] ha encontrado empleo en [Y]', '[X] solía funcionar en [Y]', '[X] encontrado empleo en [Y]', '[X] utilizado para trabajar en [Y]'}\n",
      "From ppdb: {'trabajaba en': 'trabajan en', 'ha trabajado en': 'ha trabajado'}\n",
      "\n",
      "In relation P276 there were 2 agreed and 1 not agreed translations.\n",
      "Agreed: {'[X] está en [Y]', '[X] se encuentra en [Y]'}\n",
      "Not agreed: {'[X] está ubicado en [Y]'}\n",
      "From ppdb: {'se encuentra en': 'se encuentra situado en'}\n",
      "\n",
      "In relation P530 there were 9 agreed and 5 not agreed translations.\n",
      "Agreed: {'[X] que tiene relaciones diplomáticas con [Y]', '[Y] que tiene relaciones diplomáticas con [X]', '[X] tiene relaciones diplomáticas con [Y]', '[X] mantiene relaciones diplomáticas con [Y]', '[Y] vincula las relaciones diplomáticas con [X]', '[Y] mantiene relaciones diplomáticas con [X]', '[X] vincula las relaciones diplomáticas con [Y]', '[Y] tiene relaciones diplomáticas con [X]', '[Y] que vincula las relaciones diplomáticas con [X]'}\n",
      "Not agreed: {'[Y] que mantiene relaciones diplomáticas con [X]', '[Y] que ata las relaciones diplomáticas con [X]', '[Y] que vincula relaciones diplomáticas con [X]', '[X] lazos de relaciones diplomáticas con [Y]', '[Y] laza las relaciones diplomáticas con [X]'}\n",
      "\n",
      "In relation P176 there were 13 agreed and 3 not agreed translations.\n",
      "Agreed: {'[X] desarrollado por [Y]', '[Y] y su producto [X]', '[X] un producto de [Y]', '[X] es producido por [Y]', '[X] un producto desarrollado por [Y]', '[Y] el creador de la [X]', '[X] es creado por [Y]', '[X] un producto creado por [Y]', '[X] producto de [Y]', '[X] creado por [Y]', '[X] es desarrollado por [Y]', '[X] es un producto de [Y]', '[X] producido por [Y]'}\n",
      "Not agreed: {'[X] se produce por [Y]', '[X] se ha desarrollado por [Y]', '[Y] el creador del [X]'}\n",
      "From ppdb: {'desarrollado por': 'desarrolladas por', 'producido por': 'producidas por', 'el creador de la': 'el creador del', 'creado por': 'establecido por', 'es un producto de': 'es producto de', 'producto de': 'producto en', 'el creador del': 'el creador de la'}\n",
      "\n",
      "In relation P27 there were 9 agreed and 11 not agreed translations.\n",
      "Agreed: {'[X] que es ciudadano de [Y]', '[X] que tiene la ciudadanía de [Y]', '[X] que tiene una ciudadanía de [Y]', 'como ciudadano de [Y] [X]', 'Como ciudadano de [Y] [X]', '[X] es [Y] ciudadano', '[X] tiene una ciudadanía de [Y]', '[X] es un ciudadano de [Y]', '[X] un ciudadano de [Y]'}\n",
      "Not agreed: {'[X] Sostiene una ciudadanía de [Y]', '[X] posee una ciudadanía de [Y]', '[X] es ciudadano de [Y]', '[X] quien sostiene una ciudadanía de [Y]', '[X] quien es un ciudadano de [Y]', '[X] ciudadano de [Y]', '[X] que posee una ciudadanía de [Y]', '[X] que es un ciudadano de [Y]', '[X] tiene la ciudadanía de [Y]', '[X] quien tiene una ciudadanía de [Y]', '[X] es ciudadano [Y]'}\n",
      "From ppdb: {'un ciudadano de': 'ciudadano del', 'es ciudadano': 'sea nacional', 'ciudadano de': 'ciudadano'}\n",
      "\n",
      "In relation P108 there were 7 agreed and 3 not agreed translations.\n",
      "Agreed: {'[X] trabaja para [Y]', '[X] es empleado por [Y]', '[X] que está empleado por [Y]', '[X] funciona para [Y]', '[X] quien trabaja para [Y]', '[X] quien es empleado por [Y]', '[X] que trabaja para [Y]'}\n",
      "Not agreed: {'[X] está empleado por [Y]', '[X] para el trabajo de [Y]', '[X] que es empleado de [Y]'}\n",
      "From ppdb: {'funciona para': 'ejecuta para', 'trabaja para': 'se esfuerza por', 'para el trabajo de': 'para los trabajos de', 'que trabaja para': 'que trabajan para'}\n",
      "\n",
      "In relation P36 there were 10 agreed and 19 not agreed translations.\n",
      "Agreed: {'[Y] es la capital de [X]', 'El capital de [X] es [Y]', '[Y] esa es la capital de [X]', '[X] que tiene el capital [Y]', '[X] que tiene la capital [Y]', '[Y] que es la capital de [X]', 'La capital de [X] [Y]', '[Y] la capital de [X]', 'La capital de [X] es [Y]', '[X] que tiene la ciudad capital [Y]'}\n",
      "Not agreed: {'[Y] la ciudad capital de [X]', '[X] la capital de la ciudad [Y]', '[Y] el capital de [X]', 'La ciudad capital de [X] es [Y]', '[X] es el capital de [Y]', 'la ciudad capital de [X] es [Y]', '[X] Capital [Y]', 'la capital de [X] es [Y]', '[Y] esa es la ciudad capital de [X]', '[Y] ese es el capital de [X]', '[X] es la capital [Y]', 'Capital de [X] [Y]', '[X] que tiene la mayúscula [Y]', '[X] la ciudad capital [Y]', '[Y] es la ciudad capital de [X]', 'la ciudad capital [X] es [Y]', '[X] capital [Y]', 'la capital [X] es [Y]', '[Y] es el capital de [X]'}\n",
      "From ppdb: {'la capital de': 'capital de', 'la ciudad capital': 'la capital', 'el capital de': 'la capital de', 'capital': 'los capitales'}\n",
      "\n",
      "In relation P1001 there were 1 agreed and 1 not agreed translations.\n",
      "Agreed: {'[X] es un término legal en [Y]'}\n",
      "Not agreed: {'[X] es un término jurídico en [Y]'}\n",
      "\n",
      "In relation P264 there were 18 agreed and 24 not agreed translations.\n",
      "Agreed: {'[X] es representado por [Y]', '[X] está representado por el sello musical [Y]', '[X] que está representado por [Y]', 'El sello discográfico de [X] es [Y]', '[Y] artista de grabación [X]', 'La compañía discográfica de [X] es [Y]', 'El sello musical de [X] es [Y]', '[Y] artistas como [X]', 'La etiqueta de [X] es [Y]', 'La etiqueta musical de [X] es [Y]', 'La etiqueta musical que representa [X] es [Y]', '[X] grabado para [Y]', '[X] liberado por [Y]', '[Y] artistas incluyendo [X]', '[X] etiqueta [Y]', '[X] está representado por el sello discográfico [Y]', '[X] está representado por [Y]', '[X] que es representado por [Y]'}\n",
      "Not agreed: {'la etiqueta musical [X] es [Y]', '[X] la compañía de registro es [Y]', '[X] lanzado por [Y]', 'la etiqueta de música que representa [X] es [Y]', '[X] es representado por la etiqueta de disco [Y]', 'la etiqueta récord de [X] es [Y]', 'la compañía discográfica [X] es [Y]', 'El logotipo de [X] es [Y]', '[Y] Artistas incluyendo [X]', '[X] es representado por la etiqueta de música [Y]', '[X] es representado por la etiqueta [Y]', '[Y] el artista de grabación [X]', 'La compañía de discos de [X] es [Y]', 'la etiqueta [X] es [Y]', 'la etiqueta de la música que representa [X] es [Y]', '[X] está representado por la etiqueta de la música [Y]', '[X] está representado por la etiqueta del registro [Y]', '[X] publicado por [Y]', '[X] en el registro de [Y]', 'La etiqueta de música que representa [X] es [Y]', '[X] Etiqueta [Y]', '[X] esto es representado por [Y]', '[X] está representado por la etiqueta musical [Y]', '[X] Etiquetado con [Y]'}\n",
      "From ppdb: {'etiqueta': 'la etiqueta', 'en el registro de': 'con el secretario de', 'lanzado por': 'puesto en marcha por', 'publicado por': 'liberados por'}\n",
      "\n",
      "In relation P495 there were 22 agreed and 9 not agreed translations.\n",
      "Agreed: {'[X] se desarrolló en [Y]', '[X] formulado en [Y]', '[X] que se formuló en [Y]', '[X] creado en [Y]', '[X] desarrollado en [Y]', '[X] fue de [Y]', '[X] que fue desarrollado en [Y]', '[X] que se formó en [Y]', '[X] que fue creado en [Y]', '[X] fue desarrollado en [Y]', '[X] de [Y]', '[X] que era de [Y]', '[X] se formuló en [Y]', '[X] que se originó en [Y]', '[X] fue formulado en [Y]', '[X] era de [Y]', '[X] que fue formulado en [Y]', '[X] formado en [Y]', '[X] que se desarrolló en [Y]', '[X] se originó en [Y]', '[X] fue creado en [Y]', '[X] se formó en [Y]'}\n",
      "Not agreed: {'[X] quien fue de [Y]', '[X] que se creó en [Y]', '[X] quien era de [Y]', '[X] esto fue formulado en [Y]', '[X] fue formulada en [Y]', '[X] que originó en [Y]', '[X] se forma en [Y]', '[X] originado en [Y]', '[X] se creó en [Y]'}\n",
      "From ppdb: {'era de': 'edad de', 'formulado en': 'formuladas en', 'formado en': 'constituido en', 'fue creado en': 'fue establecida en', 'creado en': 'que se creÃ³ en', 'desarrollado en': 'desarrollado durante', 'originado en': 'se originaron en'}\n",
      "\n",
      "In relation P131 there were 3 agreed and 2 not agreed translations.\n",
      "Agreed: {'[X] se puede encontrar en [Y]', '[X] está en [Y]', '[X] se encuentra en [Y]'}\n",
      "Not agreed: {'[X] está ubicado en [Y]', '[X] puede encontrarse en [Y]'}\n",
      "From ppdb: {'se puede encontrar en': 'se pueden encontrar en', 'se encuentra en': 'se encuentra situado en', 'puede encontrarse en': 'puede hallarse en'}\n",
      "\n",
      "In relation P740 there were 18 agreed and 7 not agreed translations.\n",
      "Agreed: {'[X] que fue creado en [Y]', '[X] creado en [Y]', '[X] que se formó en [Y]', '[X] fundada en [Y]', '[X] que fue fundada en [Y]', '[X] que se fundó en [Y]', '[X] que se inició en [Y]', '[X] que se originó en [Y]', '[X] fue fundada en [Y]', '[X] fue iniciado en [Y]', '[X] formado en [Y]', '[X] fundado en [Y]', '[X] se originó en [Y]', '[X] fue fundado en [Y]', '[X] fue creado en [Y]', '[X] comenzó en [Y]', '[X] se inició en [Y]', '[X] se formó en [Y]'}\n",
      "Not agreed: {'[X] que se creó en [Y]', '[X] esto fue comenzado en [Y]', '[X] que comenzó en [Y]', '[X] que originó en [Y]', '[X] se forma en [Y]', '[X] originado en [Y]', '[X] se creó en [Y]'}\n",
      "From ppdb: {'formado en': 'constituido en', 'fue fundado en': 'fue fundada en', 'fue creado en': 'fue establecida en', 'fundado en': 'fundÃ³ en', 'creado en': 'que se creÃ³ en', 'fundada en': 'fundado en', 'fue fundada en': 'fue fundado en', 'originado en': 'se originaron en'}\n",
      "\n",
      "In relation P127 there were 3 agreed and 4 not agreed translations.\n",
      "Agreed: {'[Y] posee [X]', '[X] propietario [Y]', '[X] es propiedad de [Y]'}\n",
      "Not agreed: {'El [Y] de propiedad [X]', 'El [Y] propiedad [X]', 'La [X] propiedad de [Y]', 'el [Y] -wed [X]'}\n",
      "From ppdb: {'propietario': 'el propietario', 'es propiedad de': 'pertenece a'}\n",
      "\n"
     ]
    }
   ],
   "metadata": {}
  },
  {
   "cell_type": "code",
   "execution_count": null,
   "source": [],
   "outputs": [],
   "metadata": {}
  }
 ],
 "metadata": {
  "orig_nbformat": 4,
  "language_info": {
   "name": "python",
   "version": "3.6.8",
   "mimetype": "text/x-python",
   "codemirror_mode": {
    "name": "ipython",
    "version": 3
   },
   "pygments_lexer": "ipython3",
   "nbconvert_exporter": "python",
   "file_extension": ".py"
  },
  "kernelspec": {
   "name": "python3",
   "display_name": "Python 3.6.8 64-bit ('mpararel-venv': venv)"
  },
  "interpreter": {
   "hash": "7b00635ec3dadc89d55ed82a60ecbee89d88a1e660533522094ac0dd7657354a"
  }
 },
 "nbformat": 4,
 "nbformat_minor": 2
}