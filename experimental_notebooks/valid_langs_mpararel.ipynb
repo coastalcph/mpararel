{
 "cells": [
  {
   "cell_type": "code",
   "execution_count": 1,
   "metadata": {},
   "outputs": [],
   "source": [
    "import os, sys\n",
    "sys.path.append(os.path.join(os.path.dirname(\"/home/wsr217/mpararel/\")))\n",
    "import json\n",
    "\n",
    "from dataset.create_mpararel import get_agreed_translations_and_stats, add_english_stats, add_mlama\n",
    "import glob"
   ]
  },
  {
   "cell_type": "code",
   "execution_count": 2,
   "metadata": {},
   "outputs": [
    {
     "name": "stderr",
     "output_type": "stream",
     "text": [
      "100%|██████████| 38/38 [00:20<00:00,  1.82it/s]\n"
     ]
    }
   ],
   "source": [
    "translations_folders_glob = \"../data/cleaned_mtrex_and_mpatterns/patterns/*\"\n",
    "\n",
    "agreed_translations, df = get_agreed_translations_and_stats(\n",
    "        glob.glob(translations_folders_glob))"
   ]
  },
  {
   "cell_type": "code",
   "execution_count": 3,
   "metadata": {},
   "outputs": [
    {
     "data": {
      "text/html": [
       "<div>\n",
       "<style scoped>\n",
       "    .dataframe tbody tr th:only-of-type {\n",
       "        vertical-align: middle;\n",
       "    }\n",
       "\n",
       "    .dataframe tbody tr th {\n",
       "        vertical-align: top;\n",
       "    }\n",
       "\n",
       "    .dataframe thead th {\n",
       "        text-align: right;\n",
       "    }\n",
       "</style>\n",
       "<table border=\"1\" class=\"dataframe\">\n",
       "  <thead>\n",
       "    <tr style=\"text-align: right;\">\n",
       "      <th></th>\n",
       "      <th>language</th>\n",
       "      <th>relation</th>\n",
       "      <th>agreed_templates_count</th>\n",
       "      <th>translators_count</th>\n",
       "    </tr>\n",
       "  </thead>\n",
       "  <tbody>\n",
       "    <tr>\n",
       "      <th>0</th>\n",
       "      <td>cy</td>\n",
       "      <td>P30</td>\n",
       "      <td>4</td>\n",
       "      <td>4</td>\n",
       "    </tr>\n",
       "    <tr>\n",
       "      <th>1</th>\n",
       "      <td>sw</td>\n",
       "      <td>P30</td>\n",
       "      <td>3</td>\n",
       "      <td>5</td>\n",
       "    </tr>\n",
       "    <tr>\n",
       "      <th>2</th>\n",
       "      <td>af</td>\n",
       "      <td>P30</td>\n",
       "      <td>4</td>\n",
       "      <td>5</td>\n",
       "    </tr>\n",
       "    <tr>\n",
       "      <th>3</th>\n",
       "      <td>jv</td>\n",
       "      <td>P30</td>\n",
       "      <td>0</td>\n",
       "      <td>1</td>\n",
       "    </tr>\n",
       "    <tr>\n",
       "      <th>4</th>\n",
       "      <td>ta</td>\n",
       "      <td>P30</td>\n",
       "      <td>4</td>\n",
       "      <td>4</td>\n",
       "    </tr>\n",
       "    <tr>\n",
       "      <th>...</th>\n",
       "      <td>...</td>\n",
       "      <td>...</td>\n",
       "      <td>...</td>\n",
       "      <td>...</td>\n",
       "    </tr>\n",
       "    <tr>\n",
       "      <th>3149</th>\n",
       "      <td>ar</td>\n",
       "      <td>P127</td>\n",
       "      <td>4</td>\n",
       "      <td>5</td>\n",
       "    </tr>\n",
       "    <tr>\n",
       "      <th>3150</th>\n",
       "      <td>es</td>\n",
       "      <td>P127</td>\n",
       "      <td>4</td>\n",
       "      <td>5</td>\n",
       "    </tr>\n",
       "    <tr>\n",
       "      <th>3151</th>\n",
       "      <td>cs</td>\n",
       "      <td>P127</td>\n",
       "      <td>6</td>\n",
       "      <td>5</td>\n",
       "    </tr>\n",
       "    <tr>\n",
       "      <th>3152</th>\n",
       "      <td>sr</td>\n",
       "      <td>P127</td>\n",
       "      <td>1</td>\n",
       "      <td>2</td>\n",
       "    </tr>\n",
       "    <tr>\n",
       "      <th>3153</th>\n",
       "      <td>zh</td>\n",
       "      <td>P127</td>\n",
       "      <td>4</td>\n",
       "      <td>5</td>\n",
       "    </tr>\n",
       "  </tbody>\n",
       "</table>\n",
       "<p>3154 rows × 4 columns</p>\n",
       "</div>"
      ],
      "text/plain": [
       "     language relation  agreed_templates_count  translators_count\n",
       "0          cy      P30                       4                  4\n",
       "1          sw      P30                       3                  5\n",
       "2          af      P30                       4                  5\n",
       "3          jv      P30                       0                  1\n",
       "4          ta      P30                       4                  4\n",
       "...       ...      ...                     ...                ...\n",
       "3149       ar     P127                       4                  5\n",
       "3150       es     P127                       4                  5\n",
       "3151       cs     P127                       6                  5\n",
       "3152       sr     P127                       1                  2\n",
       "3153       zh     P127                       4                  5\n",
       "\n",
       "[3154 rows x 4 columns]"
      ]
     },
     "execution_count": 3,
     "metadata": {},
     "output_type": "execute_result"
    }
   ],
   "source": [
    "df"
   ]
  },
  {
   "cell_type": "code",
   "execution_count": 4,
   "metadata": {},
   "outputs": [
    {
     "data": {
      "text/html": [
       "<div>\n",
       "<style scoped>\n",
       "    .dataframe tbody tr th:only-of-type {\n",
       "        vertical-align: middle;\n",
       "    }\n",
       "\n",
       "    .dataframe tbody tr th {\n",
       "        vertical-align: top;\n",
       "    }\n",
       "\n",
       "    .dataframe thead th {\n",
       "        text-align: right;\n",
       "    }\n",
       "</style>\n",
       "<table border=\"1\" class=\"dataframe\">\n",
       "  <thead>\n",
       "    <tr style=\"text-align: right;\">\n",
       "      <th></th>\n",
       "      <th>language</th>\n",
       "      <th>relation</th>\n",
       "      <th>agreed_templates_count</th>\n",
       "      <th>translators_count</th>\n",
       "    </tr>\n",
       "  </thead>\n",
       "  <tbody>\n",
       "    <tr>\n",
       "      <th>0</th>\n",
       "      <td>cy</td>\n",
       "      <td>P30</td>\n",
       "      <td>4</td>\n",
       "      <td>4</td>\n",
       "    </tr>\n",
       "    <tr>\n",
       "      <th>1</th>\n",
       "      <td>sw</td>\n",
       "      <td>P30</td>\n",
       "      <td>3</td>\n",
       "      <td>5</td>\n",
       "    </tr>\n",
       "    <tr>\n",
       "      <th>2</th>\n",
       "      <td>af</td>\n",
       "      <td>P30</td>\n",
       "      <td>4</td>\n",
       "      <td>5</td>\n",
       "    </tr>\n",
       "    <tr>\n",
       "      <th>3</th>\n",
       "      <td>jv</td>\n",
       "      <td>P30</td>\n",
       "      <td>0</td>\n",
       "      <td>1</td>\n",
       "    </tr>\n",
       "    <tr>\n",
       "      <th>4</th>\n",
       "      <td>ta</td>\n",
       "      <td>P30</td>\n",
       "      <td>4</td>\n",
       "      <td>4</td>\n",
       "    </tr>\n",
       "    <tr>\n",
       "      <th>...</th>\n",
       "      <td>...</td>\n",
       "      <td>...</td>\n",
       "      <td>...</td>\n",
       "      <td>...</td>\n",
       "    </tr>\n",
       "    <tr>\n",
       "      <th>33</th>\n",
       "      <td>en</td>\n",
       "      <td>P264</td>\n",
       "      <td>17</td>\n",
       "      <td>0</td>\n",
       "    </tr>\n",
       "    <tr>\n",
       "      <th>34</th>\n",
       "      <td>en</td>\n",
       "      <td>P495</td>\n",
       "      <td>17</td>\n",
       "      <td>0</td>\n",
       "    </tr>\n",
       "    <tr>\n",
       "      <th>35</th>\n",
       "      <td>en</td>\n",
       "      <td>P131</td>\n",
       "      <td>3</td>\n",
       "      <td>0</td>\n",
       "    </tr>\n",
       "    <tr>\n",
       "      <th>36</th>\n",
       "      <td>en</td>\n",
       "      <td>P740</td>\n",
       "      <td>14</td>\n",
       "      <td>0</td>\n",
       "    </tr>\n",
       "    <tr>\n",
       "      <th>37</th>\n",
       "      <td>en</td>\n",
       "      <td>P127</td>\n",
       "      <td>4</td>\n",
       "      <td>0</td>\n",
       "    </tr>\n",
       "  </tbody>\n",
       "</table>\n",
       "<p>3192 rows × 4 columns</p>\n",
       "</div>"
      ],
      "text/plain": [
       "   language relation  agreed_templates_count  translators_count\n",
       "0        cy      P30                       4                  4\n",
       "1        sw      P30                       3                  5\n",
       "2        af      P30                       4                  5\n",
       "3        jv      P30                       0                  1\n",
       "4        ta      P30                       4                  4\n",
       "..      ...      ...                     ...                ...\n",
       "33       en     P264                      17                  0\n",
       "34       en     P495                      17                  0\n",
       "35       en     P131                       3                  0\n",
       "36       en     P740                      14                  0\n",
       "37       en     P127                       4                  0\n",
       "\n",
       "[3192 rows x 4 columns]"
      ]
     },
     "execution_count": 4,
     "metadata": {},
     "output_type": "execute_result"
    }
   ],
   "source": [
    "pararel_patterns_folder = \"../data/pararel/pattern_data/graphs_json\"\n",
    "agreed_translations, df = add_english_stats(df, agreed_translations,\n",
    "                                            pararel_patterns_folder)\n",
    "df"
   ]
  },
  {
   "cell_type": "code",
   "execution_count": 5,
   "metadata": {},
   "outputs": [
    {
     "data": {
      "text/html": [
       "<div>\n",
       "<style scoped>\n",
       "    .dataframe tbody tr th:only-of-type {\n",
       "        vertical-align: middle;\n",
       "    }\n",
       "\n",
       "    .dataframe tbody tr th {\n",
       "        vertical-align: top;\n",
       "    }\n",
       "\n",
       "    .dataframe thead th {\n",
       "        text-align: right;\n",
       "    }\n",
       "</style>\n",
       "<table border=\"1\" class=\"dataframe\">\n",
       "  <thead>\n",
       "    <tr style=\"text-align: right;\">\n",
       "      <th></th>\n",
       "      <th>language</th>\n",
       "      <th>relation</th>\n",
       "      <th>agreed_templates_count</th>\n",
       "      <th>translators_count</th>\n",
       "    </tr>\n",
       "  </thead>\n",
       "  <tbody>\n",
       "    <tr>\n",
       "      <th>646</th>\n",
       "      <td>ca</td>\n",
       "      <td>P449</td>\n",
       "      <td>11</td>\n",
       "      <td>4</td>\n",
       "    </tr>\n",
       "  </tbody>\n",
       "</table>\n",
       "</div>"
      ],
      "text/plain": [
       "    language relation  agreed_templates_count  translators_count\n",
       "646       ca     P449                      11                  4"
      ]
     },
     "execution_count": 5,
     "metadata": {},
     "output_type": "execute_result"
    }
   ],
   "source": [
    "df[(df.language == 'ca') & (df.relation == 'P449')]"
   ]
  },
  {
   "cell_type": "code",
   "execution_count": 6,
   "metadata": {},
   "outputs": [
    {
     "data": {
      "text/plain": [
       "['[X] es va emetre originalment a [Y]',\n",
       " \"[X] s'estrenarà a [Y]\",\n",
       " \"[Y] s'estrenarà [X]\",\n",
       " '[Y] va debutar [X]',\n",
       " '[X] va debutar a [Y]',\n",
       " 'el debut [Y] de [X]',\n",
       " \"l'alliberament [Y] de [X]\",\n",
       " '[X] va ser alliberat a [Y]',\n",
       " '[Y] alliberat [X]',\n",
       " '[X] es va estrenar a [Y]',\n",
       " \"[X] s'estrena a [Y]\"]"
      ]
     },
     "execution_count": 6,
     "metadata": {},
     "output_type": "execute_result"
    }
   ],
   "source": [
    "[t for t, _ in agreed_translations['ca']['P449']]"
   ]
  },
  {
   "cell_type": "code",
   "execution_count": 7,
   "metadata": {},
   "outputs": [
    {
     "name": "stdout",
     "output_type": "stream",
     "text": [
      "[X] es va publicar originalment a [Y].\n"
     ]
    }
   ],
   "source": [
    "with open(os.path.join(\"../data/mlama1.1/ca/templates.jsonl\")) as f:\n",
    "    for line in f:\n",
    "        read_line = json.loads(line)\n",
    "        if read_line[\"relation\"] == \"P449\":\n",
    "            print(read_line[\"template\"])"
   ]
  },
  {
   "cell_type": "code",
   "execution_count": 8,
   "metadata": {},
   "outputs": [
    {
     "data": {
      "text/html": [
       "<div>\n",
       "<style scoped>\n",
       "    .dataframe tbody tr th:only-of-type {\n",
       "        vertical-align: middle;\n",
       "    }\n",
       "\n",
       "    .dataframe tbody tr th {\n",
       "        vertical-align: top;\n",
       "    }\n",
       "\n",
       "    .dataframe thead th {\n",
       "        text-align: right;\n",
       "    }\n",
       "</style>\n",
       "<table border=\"1\" class=\"dataframe\">\n",
       "  <thead>\n",
       "    <tr style=\"text-align: right;\">\n",
       "      <th></th>\n",
       "      <th>language</th>\n",
       "      <th>relation</th>\n",
       "      <th>agreed_templates_count</th>\n",
       "      <th>translators_count</th>\n",
       "    </tr>\n",
       "  </thead>\n",
       "  <tbody>\n",
       "    <tr>\n",
       "      <th>660</th>\n",
       "      <td>es</td>\n",
       "      <td>P449</td>\n",
       "      <td>16</td>\n",
       "      <td>5</td>\n",
       "    </tr>\n",
       "  </tbody>\n",
       "</table>\n",
       "</div>"
      ],
      "text/plain": [
       "    language relation  agreed_templates_count  translators_count\n",
       "660       es     P449                      16                  5"
      ]
     },
     "execution_count": 8,
     "metadata": {},
     "output_type": "execute_result"
    }
   ],
   "source": [
    "df[(df.language == 'es') & (df.relation == 'P449')]"
   ]
  },
  {
   "cell_type": "code",
   "execution_count": 9,
   "metadata": {},
   "outputs": [
    {
     "data": {
      "text/plain": [
       "['[X] fue originalmente emitido en [Y]',\n",
       " '[Y] es debutar [X]',\n",
       " '[Y] debutó [X]',\n",
       " '[X] debutó en [Y]',\n",
       " '[X] fue liberado en [Y]',\n",
       " '[X] se emitió originalmente en [Y]',\n",
       " '[X] debutará en [Y]',\n",
       " '[Y] va a debutar [X]',\n",
       " 'el debut [Y] de [X]',\n",
       " 'la versión [Y] de [X]',\n",
       " '[X] fue lanzado en [Y]',\n",
       " '[Y] liberado [X]',\n",
       " '[X] se estrenó en [Y]',\n",
       " '[X] se estrena en [Y]',\n",
       " '[X] es debutar en [Y]',\n",
       " 'la liberación [Y] de [X]']"
      ]
     },
     "execution_count": 9,
     "metadata": {},
     "output_type": "execute_result"
    }
   ],
   "source": [
    "[t for t, _ in agreed_translations['es']['P449']]"
   ]
  },
  {
   "cell_type": "code",
   "execution_count": 10,
   "metadata": {},
   "outputs": [
    {
     "name": "stdout",
     "output_type": "stream",
     "text": [
      "[X] se emitió originalmente en [Y].\n"
     ]
    }
   ],
   "source": [
    "import json\n",
    "\n",
    "with open(os.path.join(\"../data/mlama1.1/es/templates.jsonl\")) as f:\n",
    "    for line in f:\n",
    "        read_line = json.loads(line)\n",
    "        if read_line[\"relation\"] == \"P449\":\n",
    "            print(read_line[\"template\"])"
   ]
  },
  {
   "cell_type": "code",
   "execution_count": 11,
   "metadata": {},
   "outputs": [
    {
     "name": "stderr",
     "output_type": "stream",
     "text": [
      "2021-10-19 13:38:39,282 - dataset.create_mpararel - INFO - Adding mlama templates\n",
      " 33%|███▎      | 18/54 [00:01<00:02, 14.83it/s]"
     ]
    },
    {
     "name": "stdout",
     "output_type": "stream",
     "text": [
      "mlama_template [X] es va publicar originalment a [Y]\n",
      "mlama_template in lang_relation_templates False\n",
      "existing_value [11]\n"
     ]
    },
    {
     "name": "stderr",
     "output_type": "stream",
     "text": [
      "100%|██████████| 54/54 [00:04<00:00, 13.47it/s]\n"
     ]
    },
    {
     "data": {
      "text/html": [
       "<div>\n",
       "<style scoped>\n",
       "    .dataframe tbody tr th:only-of-type {\n",
       "        vertical-align: middle;\n",
       "    }\n",
       "\n",
       "    .dataframe tbody tr th {\n",
       "        vertical-align: top;\n",
       "    }\n",
       "\n",
       "    .dataframe thead th {\n",
       "        text-align: right;\n",
       "    }\n",
       "</style>\n",
       "<table border=\"1\" class=\"dataframe\">\n",
       "  <thead>\n",
       "    <tr style=\"text-align: right;\">\n",
       "      <th></th>\n",
       "      <th>language</th>\n",
       "      <th>relation</th>\n",
       "      <th>agreed_templates_count</th>\n",
       "      <th>translators_count</th>\n",
       "    </tr>\n",
       "  </thead>\n",
       "  <tbody>\n",
       "    <tr>\n",
       "      <th>0</th>\n",
       "      <td>cy</td>\n",
       "      <td>P30</td>\n",
       "      <td>4</td>\n",
       "      <td>4</td>\n",
       "    </tr>\n",
       "    <tr>\n",
       "      <th>1</th>\n",
       "      <td>sw</td>\n",
       "      <td>P30</td>\n",
       "      <td>3</td>\n",
       "      <td>5</td>\n",
       "    </tr>\n",
       "    <tr>\n",
       "      <th>2</th>\n",
       "      <td>af</td>\n",
       "      <td>P30</td>\n",
       "      <td>4</td>\n",
       "      <td>5</td>\n",
       "    </tr>\n",
       "    <tr>\n",
       "      <th>3</th>\n",
       "      <td>jv</td>\n",
       "      <td>P30</td>\n",
       "      <td>0</td>\n",
       "      <td>1</td>\n",
       "    </tr>\n",
       "    <tr>\n",
       "      <th>4</th>\n",
       "      <td>ta</td>\n",
       "      <td>P30</td>\n",
       "      <td>4</td>\n",
       "      <td>4</td>\n",
       "    </tr>\n",
       "    <tr>\n",
       "      <th>...</th>\n",
       "      <td>...</td>\n",
       "      <td>...</td>\n",
       "      <td>...</td>\n",
       "      <td>...</td>\n",
       "    </tr>\n",
       "    <tr>\n",
       "      <th>419</th>\n",
       "      <td>sv</td>\n",
       "      <td>P1923</td>\n",
       "      <td>1</td>\n",
       "      <td>1</td>\n",
       "    </tr>\n",
       "    <tr>\n",
       "      <th>420</th>\n",
       "      <td>sv</td>\n",
       "      <td>P527</td>\n",
       "      <td>1</td>\n",
       "      <td>1</td>\n",
       "    </tr>\n",
       "    <tr>\n",
       "      <th>421</th>\n",
       "      <td>sv</td>\n",
       "      <td>P102</td>\n",
       "      <td>1</td>\n",
       "      <td>1</td>\n",
       "    </tr>\n",
       "    <tr>\n",
       "      <th>422</th>\n",
       "      <td>sv</td>\n",
       "      <td>P1001</td>\n",
       "      <td>1</td>\n",
       "      <td>1</td>\n",
       "    </tr>\n",
       "    <tr>\n",
       "      <th>423</th>\n",
       "      <td>sv</td>\n",
       "      <td>P31</td>\n",
       "      <td>1</td>\n",
       "      <td>1</td>\n",
       "    </tr>\n",
       "  </tbody>\n",
       "</table>\n",
       "<p>3616 rows × 4 columns</p>\n",
       "</div>"
      ],
      "text/plain": [
       "    language relation  agreed_templates_count  translators_count\n",
       "0         cy      P30                       4                  4\n",
       "1         sw      P30                       3                  5\n",
       "2         af      P30                       4                  5\n",
       "3         jv      P30                       0                  1\n",
       "4         ta      P30                       4                  4\n",
       "..       ...      ...                     ...                ...\n",
       "419       sv    P1923                       1                  1\n",
       "420       sv     P527                       1                  1\n",
       "421       sv     P102                       1                  1\n",
       "422       sv    P1001                       1                  1\n",
       "423       sv      P31                       1                  1\n",
       "\n",
       "[3616 rows x 4 columns]"
      ]
     },
     "execution_count": 11,
     "metadata": {},
     "output_type": "execute_result"
    }
   ],
   "source": [
    "mlama_folder = \"../data/mlama1.1\"\n",
    "agreed_translations, df = add_mlama(df, agreed_translations, mlama_folder)\n",
    "df"
   ]
  },
  {
   "cell_type": "code",
   "execution_count": 12,
   "metadata": {},
   "outputs": [
    {
     "data": {
      "text/html": [
       "<div>\n",
       "<style scoped>\n",
       "    .dataframe tbody tr th:only-of-type {\n",
       "        vertical-align: middle;\n",
       "    }\n",
       "\n",
       "    .dataframe tbody tr th {\n",
       "        vertical-align: top;\n",
       "    }\n",
       "\n",
       "    .dataframe thead th {\n",
       "        text-align: right;\n",
       "    }\n",
       "</style>\n",
       "<table border=\"1\" class=\"dataframe\">\n",
       "  <thead>\n",
       "    <tr style=\"text-align: right;\">\n",
       "      <th></th>\n",
       "      <th>language</th>\n",
       "      <th>relation</th>\n",
       "      <th>agreed_templates_count</th>\n",
       "      <th>translators_count</th>\n",
       "    </tr>\n",
       "  </thead>\n",
       "  <tbody>\n",
       "    <tr>\n",
       "      <th>646</th>\n",
       "      <td>ca</td>\n",
       "      <td>P449</td>\n",
       "      <td>12</td>\n",
       "      <td>4</td>\n",
       "    </tr>\n",
       "  </tbody>\n",
       "</table>\n",
       "</div>"
      ],
      "text/plain": [
       "    language relation  agreed_templates_count  translators_count\n",
       "646       ca     P449                      12                  4"
      ]
     },
     "execution_count": 12,
     "metadata": {},
     "output_type": "execute_result"
    }
   ],
   "source": [
    "df[(df.language == 'ca') & (df.relation == 'P449')]"
   ]
  },
  {
   "cell_type": "code",
   "execution_count": 13,
   "metadata": {},
   "outputs": [
    {
     "data": {
      "text/plain": [
       "['[X] es va emetre originalment a [Y]',\n",
       " \"[X] s'estrenarà a [Y]\",\n",
       " \"[Y] s'estrenarà [X]\",\n",
       " '[Y] va debutar [X]',\n",
       " '[X] va debutar a [Y]',\n",
       " 'el debut [Y] de [X]',\n",
       " \"l'alliberament [Y] de [X]\",\n",
       " '[X] va ser alliberat a [Y]',\n",
       " '[Y] alliberat [X]',\n",
       " '[X] es va estrenar a [Y]',\n",
       " \"[X] s'estrena a [Y]\",\n",
       " '[X] es va publicar originalment a [Y]']"
      ]
     },
     "execution_count": 13,
     "metadata": {},
     "output_type": "execute_result"
    }
   ],
   "source": [
    "[t for t, _ in agreed_translations['ca']['P449']]"
   ]
  },
  {
   "cell_type": "code",
   "execution_count": 14,
   "metadata": {},
   "outputs": [
    {
     "data": {
      "text/html": [
       "<div>\n",
       "<style scoped>\n",
       "    .dataframe tbody tr th:only-of-type {\n",
       "        vertical-align: middle;\n",
       "    }\n",
       "\n",
       "    .dataframe tbody tr th {\n",
       "        vertical-align: top;\n",
       "    }\n",
       "\n",
       "    .dataframe thead th {\n",
       "        text-align: right;\n",
       "    }\n",
       "</style>\n",
       "<table border=\"1\" class=\"dataframe\">\n",
       "  <thead>\n",
       "    <tr style=\"text-align: right;\">\n",
       "      <th></th>\n",
       "      <th>language</th>\n",
       "      <th>relation</th>\n",
       "      <th>agreed_templates_count</th>\n",
       "      <th>translators_count</th>\n",
       "    </tr>\n",
       "  </thead>\n",
       "  <tbody>\n",
       "    <tr>\n",
       "      <th>660</th>\n",
       "      <td>es</td>\n",
       "      <td>P449</td>\n",
       "      <td>16</td>\n",
       "      <td>5</td>\n",
       "    </tr>\n",
       "  </tbody>\n",
       "</table>\n",
       "</div>"
      ],
      "text/plain": [
       "    language relation  agreed_templates_count  translators_count\n",
       "660       es     P449                      16                  5"
      ]
     },
     "execution_count": 14,
     "metadata": {},
     "output_type": "execute_result"
    }
   ],
   "source": [
    "df[(df.language == 'es') & (df.relation == 'P449')]"
   ]
  },
  {
   "cell_type": "code",
   "execution_count": 16,
   "metadata": {},
   "outputs": [
    {
     "data": {
      "text/plain": [
       "(['[X] fue originalmente emitido en [Y]',\n",
       "  '[Y] es debutar [X]',\n",
       "  '[Y] debutó [X]',\n",
       "  '[X] debutó en [Y]',\n",
       "  '[X] fue liberado en [Y]',\n",
       "  '[X] se emitió originalmente en [Y]',\n",
       "  '[X] debutará en [Y]',\n",
       "  '[Y] va a debutar [X]',\n",
       "  'el debut [Y] de [X]',\n",
       "  'la versión [Y] de [X]',\n",
       "  '[X] fue lanzado en [Y]',\n",
       "  '[Y] liberado [X]',\n",
       "  '[X] se estrenó en [Y]',\n",
       "  '[X] se estrena en [Y]',\n",
       "  '[X] es debutar en [Y]',\n",
       "  'la liberación [Y] de [X]'],\n",
       " 16)"
      ]
     },
     "execution_count": 16,
     "metadata": {},
     "output_type": "execute_result"
    }
   ],
   "source": [
    "[t for t, _ in agreed_translations['es']['P449']], len(agreed_translations['es']['P449'])"
   ]
  },
  {
   "cell_type": "code",
   "execution_count": null,
   "metadata": {},
   "outputs": [],
   "source": []
  }
 ],
 "metadata": {
  "interpreter": {
   "hash": "e5b0323cc88f2585e6ae482f2ef813c59755d2e262e36e57d65e5a1385fce157"
  },
  "kernelspec": {
   "display_name": "Python 3.6.8 64-bit ('mpararel-venv': venv)",
   "name": "python3"
  },
  "language_info": {
   "codemirror_mode": {
    "name": "ipython",
    "version": 3
   },
   "file_extension": ".py",
   "mimetype": "text/x-python",
   "name": "python",
   "nbconvert_exporter": "python",
   "pygments_lexer": "ipython3",
   "version": "3.6.8"
  },
  "orig_nbformat": 4
 },
 "nbformat": 4,
 "nbformat_minor": 2
}
