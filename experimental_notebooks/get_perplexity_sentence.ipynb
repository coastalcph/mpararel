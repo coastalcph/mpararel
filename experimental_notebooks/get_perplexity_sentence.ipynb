{
 "cells": [
  {
   "cell_type": "code",
   "execution_count": 42,
   "source": [
    "import os\n",
    "import re\n",
    "import json\n",
    "import torch\n",
    "import collections\n",
    "import numpy as np\n",
    "from tqdm import tqdm"
   ],
   "outputs": [],
   "metadata": {}
  },
  {
   "cell_type": "code",
   "execution_count": 51,
   "source": [
    "def is_template_valid(template):\n",
    "    \"\"\"Checks that the template has one [X], one [Y], and extra text.\"\"\"\n",
    "    return (template.count(\"[X]\") == 1 and\n",
    "            template.count(\"[Y]\") == 1 and\n",
    "            not re.match(r'^[\\b\\[X\\]\\b\\b\\[Y\\]\\b., ]+$', template))\n",
    "\n",
    "mpararel_folder = \"../generated_datasets/mpararel_clean\"\n",
    "relations = [x.replace(\".jsonl\", \"\") for x in os.listdir(os.path.join(\n",
    "    mpararel_folder, \"en/triples\"))]\n",
    "language = \"es\"\n",
    "K_POPULATE_PATTERN = 10\n",
    "\n",
    "phrases_per_relation = {}\n",
    "for relation in relations:\n",
    "    sub_obj = []\n",
    "    with open(os.path.join(mpararel_folder, language, \"triples\", relation + \".jsonl\")) as f_triples:\n",
    "        for line in f_triples:\n",
    "            data = json.loads(line)\n",
    "            if np.random.rand() > 0.6:\n",
    "                sub_obj.append((data[\"sub_label\"], data[\"obj_label\"]))\n",
    "            if len(sub_obj) == K_POPULATE_PATTERN:\n",
    "                break\n",
    "    with open(os.path.join(mpararel_folder, language, \"patterns\", relation + \".jsonl\")) as f_patterns:\n",
    "        patterns = set()\n",
    "        for line in f_patterns:\n",
    "            data = json.loads(line)\n",
    "            if is_template_valid(data[\"pattern\"]):\n",
    "                patterns.add(data[\"pattern\"])\n",
    "    this_relation_phrases = collections.defaultdict(list)\n",
    "    for pattern in patterns:\n",
    "        for sub, obj in sub_obj:\n",
    "            phrase = pattern.replace(\"[X]\", sub)\n",
    "            phrase = phrase.replace(\"[Y]\", obj)\n",
    "            this_relation_phrases[pattern].append(phrase)\n",
    "    phrases_per_relation[relation] = this_relation_phrases"
   ],
   "outputs": [],
   "metadata": {}
  },
  {
   "cell_type": "code",
   "execution_count": 54,
   "source": [
    "phrases_per_relation['P127']"
   ],
   "outputs": [
    {
     "output_type": "execute_result",
     "data": {
      "text/plain": [
       "defaultdict(list,\n",
       "            {'[X] propietario [Y].': ['BMW Motorrad propietario BMW.',\n",
       "              'Soldier Field propietario Chicago.',\n",
       "              'Ducati propietario Audi.',\n",
       "              'Miami Orange Bowl propietario Miami.',\n",
       "              'Deutsche Bahn propietario Alemania.',\n",
       "              'Acura propietario Honda.',\n",
       "              'Aeropuerto Internacional de Honolulu propietario Hawái.',\n",
       "              'Lotus Software propietario IBM.',\n",
       "              'disco compacto propietario Sony.',\n",
       "              'CodePlex propietario Microsoft.'],\n",
       "             'El [Y] -wed [X]': ['El BMW -wed BMW Motorrad',\n",
       "              'El Chicago -wed Soldier Field',\n",
       "              'El Audi -wed Ducati',\n",
       "              'El Miami -wed Miami Orange Bowl',\n",
       "              'El Alemania -wed Deutsche Bahn',\n",
       "              'El Honda -wed Acura',\n",
       "              'El Hawái -wed Aeropuerto Internacional de Honolulu',\n",
       "              'El IBM -wed Lotus Software',\n",
       "              'El Sony -wed disco compacto',\n",
       "              'El Microsoft -wed CodePlex'],\n",
       "             '[X] es propiedad de [Y].': ['BMW Motorrad es propiedad de BMW.',\n",
       "              'Soldier Field es propiedad de Chicago.',\n",
       "              'Ducati es propiedad de Audi.',\n",
       "              'Miami Orange Bowl es propiedad de Miami.',\n",
       "              'Deutsche Bahn es propiedad de Alemania.',\n",
       "              'Acura es propiedad de Honda.',\n",
       "              'Aeropuerto Internacional de Honolulu es propiedad de Hawái.',\n",
       "              'Lotus Software es propiedad de IBM.',\n",
       "              'disco compacto es propiedad de Sony.',\n",
       "              'CodePlex es propiedad de Microsoft.'],\n",
       "             '[Y] posee [X].': ['BMW posee BMW Motorrad.',\n",
       "              'Chicago posee Soldier Field.',\n",
       "              'Audi posee Ducati.',\n",
       "              'Miami posee Miami Orange Bowl.',\n",
       "              'Alemania posee Deutsche Bahn.',\n",
       "              'Honda posee Acura.',\n",
       "              'Hawái posee Aeropuerto Internacional de Honolulu.',\n",
       "              'IBM posee Lotus Software.',\n",
       "              'Sony posee disco compacto.',\n",
       "              'Microsoft posee CodePlex.']})"
      ]
     },
     "metadata": {},
     "execution_count": 54
    }
   ],
   "metadata": {}
  },
  {
   "cell_type": "code",
   "execution_count": 22,
   "source": [
    "from transformers import BertTokenizer, BertLMHeadModel\n",
    "tokenizer = BertTokenizer.from_pretrained('bert-base-multilingual-cased')\n",
    "model = BertLMHeadModel.from_pretrained(\"bert-base-multilingual-cased\")"
   ],
   "outputs": [
    {
     "output_type": "stream",
     "name": "stderr",
     "text": [
      "If you want to use `BertLMHeadModel` as a standalone, add `is_decoder=True.`\n",
      "Some weights of the model checkpoint at bert-base-multilingual-cased were not used when initializing BertLMHeadModel: ['cls.seq_relationship.bias', 'cls.seq_relationship.weight']\n",
      "- This IS expected if you are initializing BertLMHeadModel from the checkpoint of a model trained on another task or with another architecture (e.g. initializing a BertForSequenceClassification model from a BertForPreTraining model).\n",
      "- This IS NOT expected if you are initializing BertLMHeadModel from the checkpoint of a model that you expect to be exactly identical (initializing a BertForSequenceClassification model from a BertForSequenceClassification model).\n"
     ]
    }
   ],
   "metadata": {}
  },
  {
   "cell_type": "code",
   "execution_count": 56,
   "source": [
    "relations_to_patterns_to_ppl = {}\n",
    "for relation in tqdm(relations):\n",
    "    patterns_to_ppl = {}\n",
    "    for pattern, phrases in phrases_per_relation[relation].items():\n",
    "        ppls = []\n",
    "        for phrase in phrases:\n",
    "            encodings = tokenizer(phrase, return_tensors='pt')\n",
    "            outputs = model(encodings[\"input_ids\"], labels=encodings[\"input_ids\"])\n",
    "            ppls.append(torch.exp(-outputs.loss).item())\n",
    "        patterns_to_ppl[pattern] = np.mean(ppls)\n",
    "    relations_to_patterns_to_ppl[relation] = patterns_to_ppl"
   ],
   "outputs": [
    {
     "output_type": "stream",
     "name": "stderr",
     "text": [
      "100%|██████████| 39/39 [05:53<00:00,  9.06s/it]\n"
     ]
    }
   ],
   "metadata": {}
  },
  {
   "cell_type": "code",
   "execution_count": 62,
   "source": [
    "ppls = []\n",
    "for relation, pattern_to_ppl in relations_to_patterns_to_ppl.items():\n",
    "    for pattern, ppl in pattern_to_ppl.items():\n",
    "        ppls.append(ppl)"
   ],
   "outputs": [],
   "metadata": {}
  },
  {
   "cell_type": "code",
   "execution_count": 79,
   "source": [
    "for relation, pattern_to_ppl in relations_to_patterns_to_ppl.items():\n",
    "    for pattern, ppl in pattern_to_ppl.items():\n",
    "        if ppl > 1e-5:\n",
    "            print(relation, pattern, ppl)"
   ],
   "outputs": [
    {
     "output_type": "stream",
     "name": "stdout",
     "text": [
      "P178 [X], un producto desarrollado por [Y] 1.138791129733363e-05\n",
      "P178 [X] es un producto de [Y] 1.1611506556619133e-05\n",
      "P463 [X] es una parte de la organización [Y]. 1.522542280554262e-05\n",
      "P1376 [X], esa es la ciudad capital de [Y]. 2.1063356143713463e-05\n",
      "P1376 [X] es la ciudad capital de [Y]. 2.325843488932833e-05\n",
      "P1376 La ciudad capital de [Y] es [X]. 1.096088454630717e-05\n",
      "P1376 [Y], que tiene la capital [X]. 2.2923432678112476e-05\n",
      "P1376 [Y] la ciudad capital es [X]. 2.0789034059021107e-05\n",
      "P1376 [Y], que tiene la ciudad capital [X]. 8.718334537434202e-05\n",
      "P1376 [X], la ciudad capital de [Y]. 1.1358985642573315e-05\n",
      "P136 [X] juega la música [Y]. 1.059941949961285e-05\n",
      "P407 [X] es un trabajo [Y] -language. 1.1269550429915399e-05\n",
      "P937 [X] encontrado empleo en [Y]. 1.502322058968275e-05\n",
      "P176 [X] es un producto de [Y]. 1.2234501343755256e-05\n",
      "P36 [Y] es la ciudad capital de [X]. 1.708727619416095e-05\n",
      "P36 La ciudad capital [X] es [Y]. 1.9944285571682486e-05\n"
     ]
    }
   ],
   "metadata": {}
  },
  {
   "cell_type": "code",
   "execution_count": 71,
   "source": [
    "for i in range(0, 110, 10):\n",
    "    print(i, np.percentile(ppls, i))"
   ],
   "outputs": [
    {
     "output_type": "stream",
     "name": "stdout",
     "text": [
      "0 3.571987676198596e-08\n",
      "10 1.7310609143894597e-07\n",
      "20 3.0822326131385584e-07\n",
      "30 4.481712007375904e-07\n",
      "40 6.854630703401202e-07\n",
      "50 1.0100167742166377e-06\n",
      "60 1.649448329885672e-06\n",
      "70 2.441333534051182e-06\n",
      "80 3.5999798234342963e-06\n",
      "90 6.493832446636818e-06\n",
      "100 8.718334537434202e-05\n"
     ]
    }
   ],
   "metadata": {}
  },
  {
   "cell_type": "code",
   "execution_count": 66,
   "source": [],
   "outputs": [
    {
     "output_type": "execute_result",
     "data": {
      "text/plain": [
       "1.0100167742166377e-06"
      ]
     },
     "metadata": {},
     "execution_count": 66
    }
   ],
   "metadata": {}
  },
  {
   "cell_type": "code",
   "execution_count": 67,
   "source": [],
   "outputs": [
    {
     "output_type": "execute_result",
     "data": {
      "text/plain": [
       "2.965522008935295e-06"
      ]
     },
     "metadata": {},
     "execution_count": 67
    }
   ],
   "metadata": {}
  },
  {
   "cell_type": "code",
   "execution_count": 55,
   "source": [
    "relations_to_patterns_to_ppl[\"P127\"]['[X] propietario [Y].'] > relations_to_patterns_to_ppl[\"P127\"]['El [Y] -wed [X]']"
   ],
   "outputs": [
    {
     "output_type": "execute_result",
     "data": {
      "text/plain": [
       "True"
      ]
     },
     "metadata": {},
     "execution_count": 55
    }
   ],
   "metadata": {}
  },
  {
   "cell_type": "code",
   "execution_count": null,
   "source": [],
   "outputs": [],
   "metadata": {}
  }
 ],
 "metadata": {
  "orig_nbformat": 4,
  "language_info": {
   "name": "python",
   "version": "3.6.8",
   "mimetype": "text/x-python",
   "codemirror_mode": {
    "name": "ipython",
    "version": 3
   },
   "pygments_lexer": "ipython3",
   "nbconvert_exporter": "python",
   "file_extension": ".py"
  },
  "kernelspec": {
   "name": "python3",
   "display_name": "Python 3.6.8 64-bit ('mpararel-venv': venv)"
  },
  "interpreter": {
   "hash": "7b00635ec3dadc89d55ed82a60ecbee89d88a1e660533522094ac0dd7657354a"
  }
 },
 "nbformat": 4,
 "nbformat_minor": 2
}