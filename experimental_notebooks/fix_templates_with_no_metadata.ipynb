{
 "cells": [
  {
   "cell_type": "code",
   "execution_count": 1,
   "source": [
    "import os\n",
    "from glob import glob\n",
    "import json\n",
    "from tqdm import tqdm"
   ],
   "outputs": [],
   "metadata": {}
  },
  {
   "cell_type": "code",
   "execution_count": 15,
   "source": [
    "glob(\"/home/wsr217/mpararel/data/multilingual/pararel_populated_*\")"
   ],
   "outputs": [
    {
     "output_type": "execute_result",
     "data": {
      "text/plain": [
       "['/home/wsr217/mpararel/data/multilingual/pararel_populated_bing',\n",
       " '/home/wsr217/mpararel/data/multilingual/pararel_populated_opus_mt',\n",
       " '/home/wsr217/mpararel/data/multilingual/pararel_populated_google',\n",
       " '/home/wsr217/mpararel/data/multilingual/pararel_populated_m2m100_big',\n",
       " '/home/wsr217/mpararel/data/multilingual/pararel_populated_mbart50_en2m']"
      ]
     },
     "metadata": {},
     "execution_count": 15
    }
   ],
   "metadata": {}
  },
  {
   "cell_type": "code",
   "execution_count": 16,
   "source": [
    "for pararel_populated_dir in tqdm(glob(\"/home/wsr217/mpararel/data/multilingual/pararel_populated_*\")):\n",
    "    print(\"Processing dir:\", pararel_populated_dir)\n",
    "    for lang_folder in tqdm(os.listdir(pararel_populated_dir)):\n",
    "        for relation_file in os.listdir(os.path.join(pararel_populated_dir, lang_folder)):\n",
    "            out_file = os.path.join(pararel_populated_dir + '_with_metadata', lang_folder, relation_file)\n",
    "            os.makedirs(out_file[:-len(os.path.basename(out_file))], exist_ok=True)\n",
    "            with open(os.path.join(pararel_populated_dir, lang_folder, relation_file), 'r') as f_in, \\\n",
    "                open(out_file, 'w') as f_out:\n",
    "                for line in f_in:\n",
    "                    if line:\n",
    "                        template = json.loads(line)\n",
    "                        f_out.write(\"{}\\n\".format(json.dumps({\"pattern\":template})))"
   ],
   "outputs": [
    {
     "output_type": "stream",
     "name": "stderr",
     "text": [
      "  0%|          | 0/5 [00:00<?, ?it/s]"
     ]
    },
    {
     "output_type": "stream",
     "name": "stdout",
     "text": [
      "Processing dir: /home/wsr217/mpararel/data/multilingual/pararel_populated_bing\n"
     ]
    },
    {
     "output_type": "stream",
     "name": "stderr",
     "text": [
      "100%|██████████| 59/59 [00:13<00:00,  4.22it/s]\n",
      " 20%|██        | 1/5 [00:14<00:56, 14.00s/it]"
     ]
    },
    {
     "output_type": "stream",
     "name": "stdout",
     "text": [
      "Processing dir: /home/wsr217/mpararel/data/multilingual/pararel_populated_opus_mt\n"
     ]
    },
    {
     "output_type": "stream",
     "name": "stderr",
     "text": [
      "100%|██████████| 62/62 [00:16<00:00,  3.77it/s]\n",
      " 40%|████      | 2/5 [00:30<00:46, 15.43s/it]"
     ]
    },
    {
     "output_type": "stream",
     "name": "stdout",
     "text": [
      "Processing dir: /home/wsr217/mpararel/data/multilingual/pararel_populated_google\n"
     ]
    },
    {
     "output_type": "stream",
     "name": "stderr",
     "text": [
      "0it [00:00, ?it/s]\n"
     ]
    },
    {
     "output_type": "stream",
     "name": "stdout",
     "text": [
      "Processing dir: /home/wsr217/mpararel/data/multilingual/pararel_populated_m2m100_big\n"
     ]
    },
    {
     "output_type": "stream",
     "name": "stderr",
     "text": [
      "100%|██████████| 78/78 [00:23<00:00,  3.35it/s]\n",
      " 80%|████████  | 4/5 [00:53<00:13, 13.06s/it]"
     ]
    },
    {
     "output_type": "stream",
     "name": "stdout",
     "text": [
      "Processing dir: /home/wsr217/mpararel/data/multilingual/pararel_populated_mbart50_en2m\n"
     ]
    },
    {
     "output_type": "stream",
     "name": "stderr",
     "text": [
      "100%|██████████| 48/48 [00:12<00:00,  3.83it/s]\n",
      "100%|██████████| 5/5 [01:06<00:00, 13.26s/it]\n"
     ]
    }
   ],
   "metadata": {}
  },
  {
   "cell_type": "code",
   "execution_count": 3,
   "source": [
    "glob(\"/home/wsr217/mpararel/data/multilingual/pararel_populated_*\")"
   ],
   "outputs": [
    {
     "output_type": "execute_result",
     "data": {
      "text/plain": [
       "['/home/wsr217/mpararel/data/multilingual/pararel_populated_bing',\n",
       " '/home/wsr217/mpararel/data/multilingual/pararel_populated_opus_mt',\n",
       " '/home/wsr217/mpararel/data/multilingual/pararel_populated_mbart50_en2m_with_metadata',\n",
       " '/home/wsr217/mpararel/data/multilingual/pararel_populated_google',\n",
       " '/home/wsr217/mpararel/data/multilingual/pararel_populated_m2m100_big',\n",
       " '/home/wsr217/mpararel/data/multilingual/pararel_populated_opus_mt_with_metadata',\n",
       " '/home/wsr217/mpararel/data/multilingual/pararel_populated_mbart50_en2m',\n",
       " '/home/wsr217/mpararel/data/multilingual/pararel_populated_m2m100_big_with_metadata',\n",
       " '/home/wsr217/mpararel/data/multilingual/pararel_populated_bing_with_metadata']"
      ]
     },
     "metadata": {},
     "execution_count": 3
    }
   ],
   "metadata": {}
  },
  {
   "cell_type": "code",
   "execution_count": 4,
   "source": [
    "pararel_populated_dir = \"/home/wsr217/mpararel/data/multilingual/pararel_populated_google\"\n",
    "for lang_folder in tqdm(os.listdir(pararel_populated_dir)):\n",
    "    for relation_file in os.listdir(os.path.join(pararel_populated_dir, lang_folder)):\n",
    "        out_file = os.path.join(pararel_populated_dir + '_with_metadata', lang_folder, relation_file)\n",
    "        os.makedirs(out_file[:-len(os.path.basename(out_file))], exist_ok=True)\n",
    "        with open(os.path.join(pararel_populated_dir, lang_folder, relation_file), 'r') as f_in, \\\n",
    "            open(out_file, 'w') as f_out:\n",
    "            for line in f_in:\n",
    "                if line:\n",
    "                    template = json.loads(line)\n",
    "                    f_out.write(\"{}\\n\".format(json.dumps({\"pattern\":template})))"
   ],
   "outputs": [
    {
     "output_type": "stream",
     "name": "stderr",
     "text": [
      "100%|██████████| 104/104 [00:21<00:00,  4.82it/s]\n"
     ]
    }
   ],
   "metadata": {}
  },
  {
   "cell_type": "code",
   "execution_count": null,
   "source": [],
   "outputs": [],
   "metadata": {}
  }
 ],
 "metadata": {
  "orig_nbformat": 4,
  "language_info": {
   "name": "python",
   "version": "3.6.8",
   "mimetype": "text/x-python",
   "codemirror_mode": {
    "name": "ipython",
    "version": 3
   },
   "pygments_lexer": "ipython3",
   "nbconvert_exporter": "python",
   "file_extension": ".py"
  },
  "kernelspec": {
   "name": "python3",
   "display_name": "Python 3.6.8 64-bit ('mpararel-venv': venv)"
  },
  "interpreter": {
   "hash": "e5b0323cc88f2585e6ae482f2ef813c59755d2e262e36e57d65e5a1385fce157"
  }
 },
 "nbformat": 4,
 "nbformat_minor": 2
}